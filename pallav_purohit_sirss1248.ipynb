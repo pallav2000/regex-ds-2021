{
 "cells": [
  {
   "cell_type": "code",
   "execution_count": 3,
   "id": "higher-newman",
   "metadata": {},
   "outputs": [
    {
     "data": {
      "text/plain": [
       "'p'"
      ]
     },
     "execution_count": 3,
     "metadata": {},
     "output_type": "execute_result"
    }
   ],
   "source": [
    "def n(s):\n",
    "    return s.split()[0][0]\n",
    "n('pallav purohit')"
   ]
  },
  {
   "cell_type": "code",
   "execution_count": 4,
   "id": "enclosed-throat",
   "metadata": {},
   "outputs": [
    {
     "data": {
      "text/plain": [
       "'pallav'"
      ]
     },
     "execution_count": 4,
     "metadata": {},
     "output_type": "execute_result"
    }
   ],
   "source": [
    "l=lambda s:s.split()[0]\n",
    "s='pallav purohit'\n",
    "l(s)"
   ]
  },
  {
   "cell_type": "code",
   "execution_count": 11,
   "id": "equivalent-operations",
   "metadata": {},
   "outputs": [
    {
     "data": {
      "text/plain": [
       "['twinkle', 'how', 'what', 'up']"
      ]
     },
     "execution_count": 11,
     "metadata": {},
     "output_type": "execute_result"
    }
   ],
   "source": [
    "def n(s):\n",
    "    return s.split()[0]\n",
    "list1 =['twinkle twinkle little star',\n",
    "      'how i wonder',\n",
    "       'what you are',\n",
    "      'up above in the sky']\n",
    "list(map(n,list1))"
   ]
  },
  {
   "cell_type": "code",
   "execution_count": 7,
   "id": "precise-interview",
   "metadata": {},
   "outputs": [
    {
     "name": "stdout",
     "output_type": "stream",
     "text": [
      "6\n"
     ]
    },
    {
     "data": {
      "text/plain": [
       "[2, 3]"
      ]
     },
     "execution_count": 7,
     "metadata": {},
     "output_type": "execute_result"
    }
   ],
   "source": [
    "def prime(n):\n",
    "    if n==0 or n==1:\n",
    "        return False\n",
    "\n",
    "    else:\n",
    "        for i in range(2,int(n**0.5)+1):\n",
    "            if n%i==0:\n",
    "                return False\n",
    "                break\n",
    "        else:\n",
    "            return True\n",
    "        \n",
    "def primeFactors(n):\n",
    "    pfact = []\n",
    "    i = 2\n",
    "    while n>1:\n",
    "        if n % i == 0 and prime(i):\n",
    "            pfact.append(i)\n",
    "            n = n//i\n",
    "        else : \n",
    "            i+=1\n",
    "    return pfact\n",
    "primeFactors(int(input()))\n"
   ]
  },
  {
   "cell_type": "code",
   "execution_count": 10,
   "id": "subsequent-medicaid",
   "metadata": {},
   "outputs": [
    {
     "name": "stdout",
     "output_type": "stream",
     "text": [
      "1 5 4\n",
      "4\n"
     ]
    }
   ],
   "source": [
    "def secondlarge(l):\n",
    "    new_list=set(l)\n",
    "    new_list.remove(max(new_list))\n",
    "    print(max(new_list))\n",
    "l=[int(i)for i in input().split()]\n",
    "secondlarge(l)"
   ]
  },
  {
   "cell_type": "code",
   "execution_count": null,
   "id": "unknown-tablet",
   "metadata": {},
   "outputs": [],
   "source": []
  }
 ],
 "metadata": {
  "kernelspec": {
   "display_name": "Python 3",
   "language": "python",
   "name": "python3"
  },
  "language_info": {
   "codemirror_mode": {
    "name": "ipython",
    "version": 3
   },
   "file_extension": ".py",
   "mimetype": "text/x-python",
   "name": "python",
   "nbconvert_exporter": "python",
   "pygments_lexer": "ipython3",
   "version": "3.9.1"
  }
 },
 "nbformat": 4,
 "nbformat_minor": 5
}
