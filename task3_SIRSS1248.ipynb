{
 "cells": [
  {
   "cell_type": "code",
   "execution_count": 10,
   "id": "opposed-toner",
   "metadata": {},
   "outputs": [
    {
     "name": "stdout",
     "output_type": "stream",
     "text": [
      "Enter a Number : 11\n"
     ]
    }
   ],
   "source": [
    "def fibonacci(inp) :\n",
    "    if inp <= 1 :\n",
    "        return inp\n",
    "    else : \n",
    "        return (fibonacci(inp-1) + fibonacci(inp-2))\n",
    "    \n",
    "n = int(input(\"Enter a Number : \"))\n",
    "\n",
    "if n < 0 :\n",
    "    print(\"Please Enter Positive Number \")\n",
    "else :\n",
    "    for i in range(n) :\n",
    "        a = fibonacci(i)"
   ]
  },
  {
   "cell_type": "code",
   "execution_count": 11,
   "id": "touched-shark",
   "metadata": {},
   "outputs": [
    {
     "name": "stdout",
     "output_type": "stream",
     "text": [
      "55\n"
     ]
    }
   ],
   "source": [
    "print(a)"
   ]
  },
  {
   "cell_type": "code",
   "execution_count": 12,
   "id": "nearby-springfield",
   "metadata": {},
   "outputs": [
    {
     "name": "stdout",
     "output_type": "stream",
     "text": [
      "Enter first Number : 81\n",
      "Enter second Number : 9\n",
      "GCD of (81,9) =  9\n"
     ]
    }
   ],
   "source": [
    "\n",
    "def gcd(a1, a2) :\n",
    "    if a2 == 0 :\n",
    "        return a1\n",
    "    else :\n",
    "        return gcd(a2, a1 % a2)\n",
    "        \n",
    "inp1 = int(input(\"Enter first Number : \"))\n",
    "inp2 = int(input(\"Enter second Number : \"))\n",
    "\n",
    "print(f\"GCD of ({inp1},{inp2}) = \", gcd(inp1, inp2))"
   ]
  },
  {
   "cell_type": "code",
   "execution_count": 13,
   "id": "imperial-sword",
   "metadata": {},
   "outputs": [
    {
     "name": "stdout",
     "output_type": "stream",
     "text": [
      "Enter first Number : 4\n",
      "Enter second Number : 5\n",
      "LCM of (4,5) =  20.0\n"
     ]
    }
   ],
   "source": [
    "def gcd(n1, n2) :\n",
    "    if n2 == 0 :\n",
    "        return n1\n",
    "    else :\n",
    "        return gcd(n2, n1 % n2)\n",
    "    \n",
    "def lcm(n1, n2) :\n",
    "    return (n1 / gcd(n1,n2)) * n2\n",
    "\n",
    "inp1 = int(input(\"Enter first Number : \"))\n",
    "inp2 = int(input(\"Enter second Number : \"))\n",
    "\n",
    "print(f\"LCM of ({inp1},{inp2}) = \", lcm(inp1, inp2))"
   ]
  },
  {
   "cell_type": "code",
   "execution_count": null,
   "id": "photographic-still",
   "metadata": {},
   "outputs": [],
   "source": []
  }
 ],
 "metadata": {
  "kernelspec": {
   "display_name": "Python 3",
   "language": "python",
   "name": "python3"
  },
  "language_info": {
   "codemirror_mode": {
    "name": "ipython",
    "version": 3
   },
   "file_extension": ".py",
   "mimetype": "text/x-python",
   "name": "python",
   "nbconvert_exporter": "python",
   "pygments_lexer": "ipython3",
   "version": "3.9.1"
  }
 },
 "nbformat": 4,
 "nbformat_minor": 5
}
